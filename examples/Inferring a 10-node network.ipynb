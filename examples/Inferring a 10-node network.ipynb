{
 "cells": [
  {
   "cell_type": "markdown",
   "metadata": {},
   "source": [
    "Inferring a 10-node network\n",
    "==============="
   ]
  },
  {
   "cell_type": "markdown",
   "metadata": {},
   "source": [
    "SWING (Sliding Window Inference for Network Generation) is a network inference tool that incorporates elements from multivariate Granger causality and sliding window regression. This tutorial demonstrates how to infer a 10-node network using SWING-RF (RandomForest), SWING-PLSR (Partial Least Squares Regression), and SWING-Lasso. \n",
    "\n",
    "SWING has user-selected parameters that require knowledge of the system of interest (such as range of time-delays). \n",
    "\n",
    "\n",
    "- $k_{min}$ and $k_{max}$: $k_{min}$ and $k_{max}$ refer to the allowed delay range. If $k_{min} = 1$ and $k_{min} = 3$, we are assuming the responses are delayed by at least one timepoint and at most 3 timepoints. We recommend you set values for k_min and k_max using prior knowledge or delay analysis such as cross correlation.  "
   ]
  },
  {
   "cell_type": "code",
   "execution_count": null,
   "metadata": {
    "collapsed": true
   },
   "outputs": [],
   "source": []
  }
 ],
 "metadata": {
  "kernelspec": {
   "display_name": "Python (swing)",
   "language": "python",
   "name": "swing"
  },
  "language_info": {
   "codemirror_mode": {
    "name": "ipython",
    "version": 3
   },
   "file_extension": ".py",
   "mimetype": "text/x-python",
   "name": "python",
   "nbconvert_exporter": "python",
   "pygments_lexer": "ipython3",
   "version": "3.6.4"
  }
 },
 "nbformat": 4,
 "nbformat_minor": 2
}
